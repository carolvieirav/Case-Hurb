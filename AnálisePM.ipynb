{
  "nbformat": 4,
  "nbformat_minor": 0,
  "metadata": {
    "colab": {
      "name": "AnálisePM.ipynb",
      "provenance": [],
      "mount_file_id": "https://github.com/carolvieirav/Case-Hurb/blob/main/An%C3%A1lisePM.ipynb",
      "authorship_tag": "ABX9TyMzUM9XzIeyf5wdhl4OaJmW",
      "include_colab_link": true
    },
    "kernelspec": {
      "name": "python3",
      "display_name": "Python 3"
    },
    "language_info": {
      "name": "python"
    }
  },
  "cells": [
    {
      "cell_type": "markdown",
      "metadata": {
        "id": "view-in-github",
        "colab_type": "text"
      },
      "source": [
        "<a href=\"https://colab.research.google.com/github/carolvieirav/Case-Hurb/blob/main/An%C3%A1lisePM.ipynb\" target=\"_parent\"><img src=\"https://colab.research.google.com/assets/colab-badge.svg\" alt=\"Open In Colab\"/></a>"
      ]
    },
    {
      "cell_type": "code",
      "metadata": {
        "id": "AxcFoLHj30ox"
      },
      "source": [
        "import pandas as pd\n",
        "from geopy import geocoders  \n",
        "from geopy.geocoders import Nominatim\n",
        "from geopy.extra.rate_limiter import RateLimiter\n",
        "import numpy as np\n",
        "from tqdm import tqdm"
      ],
      "execution_count": 46,
      "outputs": []
    },
    {
      "cell_type": "markdown",
      "metadata": {
        "id": "fBXhPZkc87xB"
      },
      "source": [
        "## Coleta de Dados"
      ]
    },
    {
      "cell_type": "code",
      "metadata": {
        "id": "PcSTW5egDnfK"
      },
      "source": [
        "df1=pd.read_excel('/content/drive/MyDrive/Desafio Hurb - Metasearch.rar (Unzipped Files)/Base Case Paid Marketing.xlsx', sheet_name=0)\n",
        "df2=pd.read_excel('/content/drive/MyDrive/Desafio Hurb - Metasearch.rar (Unzipped Files)/Base Case Paid Marketing.xlsx', sheet_name=1)"
      ],
      "execution_count": 2,
      "outputs": []
    },
    {
      "cell_type": "code",
      "metadata": {
        "colab": {
          "base_uri": "https://localhost:8080/",
          "height": 206
        },
        "id": "vRDxOs4FF4r0",
        "outputId": "4085095e-a5d5-469f-8369-7355940685ad"
      },
      "source": [
        "df1.head()"
      ],
      "execution_count": 3,
      "outputs": [
        {
          "output_type": "execute_result",
          "data": {
            "text/html": [
              "<div>\n",
              "<style scoped>\n",
              "    .dataframe tbody tr th:only-of-type {\n",
              "        vertical-align: middle;\n",
              "    }\n",
              "\n",
              "    .dataframe tbody tr th {\n",
              "        vertical-align: top;\n",
              "    }\n",
              "\n",
              "    .dataframe thead th {\n",
              "        text-align: right;\n",
              "    }\n",
              "</style>\n",
              "<table border=\"1\" class=\"dataframe\">\n",
              "  <thead>\n",
              "    <tr style=\"text-align: right;\">\n",
              "      <th></th>\n",
              "      <th>Data</th>\n",
              "      <th>Destino</th>\n",
              "      <th>Buscas</th>\n",
              "      <th>Clicks</th>\n",
              "      <th>Custo</th>\n",
              "    </tr>\n",
              "  </thead>\n",
              "  <tbody>\n",
              "    <tr>\n",
              "      <th>0</th>\n",
              "      <td>2019-01-01</td>\n",
              "      <td>Abadiania</td>\n",
              "      <td>13</td>\n",
              "      <td>0</td>\n",
              "      <td>0.000000</td>\n",
              "    </tr>\n",
              "    <tr>\n",
              "      <th>1</th>\n",
              "      <td>2019-01-01</td>\n",
              "      <td>Abaete</td>\n",
              "      <td>3</td>\n",
              "      <td>4</td>\n",
              "      <td>0.533333</td>\n",
              "    </tr>\n",
              "    <tr>\n",
              "      <th>2</th>\n",
              "      <td>2019-01-01</td>\n",
              "      <td>Abelardo Luz</td>\n",
              "      <td>22</td>\n",
              "      <td>1</td>\n",
              "      <td>0.130000</td>\n",
              "    </tr>\n",
              "    <tr>\n",
              "      <th>3</th>\n",
              "      <td>2019-01-01</td>\n",
              "      <td>Aberdeenshire</td>\n",
              "      <td>3</td>\n",
              "      <td>0</td>\n",
              "      <td>0.000000</td>\n",
              "    </tr>\n",
              "    <tr>\n",
              "      <th>4</th>\n",
              "      <td>2019-01-01</td>\n",
              "      <td>Abrantes</td>\n",
              "      <td>7</td>\n",
              "      <td>0</td>\n",
              "      <td>0.000000</td>\n",
              "    </tr>\n",
              "  </tbody>\n",
              "</table>\n",
              "</div>"
            ],
            "text/plain": [
              "        Data        Destino  Buscas  Clicks     Custo\n",
              "0 2019-01-01      Abadiania      13       0  0.000000\n",
              "1 2019-01-01         Abaete       3       4  0.533333\n",
              "2 2019-01-01   Abelardo Luz      22       1  0.130000\n",
              "3 2019-01-01  Aberdeenshire       3       0  0.000000\n",
              "4 2019-01-01       Abrantes       7       0  0.000000"
            ]
          },
          "metadata": {},
          "execution_count": 3
        }
      ]
    },
    {
      "cell_type": "code",
      "metadata": {
        "colab": {
          "base_uri": "https://localhost:8080/"
        },
        "id": "GB5pM7Bf2gQl",
        "outputId": "908830cb-2f94-47d5-9890-1ba049e800a7"
      },
      "source": [
        "df1.info()"
      ],
      "execution_count": 4,
      "outputs": [
        {
          "output_type": "stream",
          "name": "stdout",
          "text": [
            "<class 'pandas.core.frame.DataFrame'>\n",
            "RangeIndex: 915078 entries, 0 to 915077\n",
            "Data columns (total 5 columns):\n",
            " #   Column   Non-Null Count   Dtype         \n",
            "---  ------   --------------   -----         \n",
            " 0   Data     915078 non-null  datetime64[ns]\n",
            " 1   Destino  915078 non-null  object        \n",
            " 2   Buscas   915078 non-null  int64         \n",
            " 3   Clicks   915078 non-null  int64         \n",
            " 4   Custo    915078 non-null  float64       \n",
            "dtypes: datetime64[ns](1), float64(1), int64(2), object(1)\n",
            "memory usage: 34.9+ MB\n"
          ]
        }
      ]
    },
    {
      "cell_type": "code",
      "metadata": {
        "colab": {
          "base_uri": "https://localhost:8080/",
          "height": 206
        },
        "id": "cIvC9x6Ga0TY",
        "outputId": "3ed11cb9-405f-426b-c3e5-03c3ea6e536c"
      },
      "source": [
        "df2.head()"
      ],
      "execution_count": 5,
      "outputs": [
        {
          "output_type": "execute_result",
          "data": {
            "text/html": [
              "<div>\n",
              "<style scoped>\n",
              "    .dataframe tbody tr th:only-of-type {\n",
              "        vertical-align: middle;\n",
              "    }\n",
              "\n",
              "    .dataframe tbody tr th {\n",
              "        vertical-align: top;\n",
              "    }\n",
              "\n",
              "    .dataframe thead th {\n",
              "        text-align: right;\n",
              "    }\n",
              "</style>\n",
              "<table border=\"1\" class=\"dataframe\">\n",
              "  <thead>\n",
              "    <tr style=\"text-align: right;\">\n",
              "      <th></th>\n",
              "      <th>Cidade</th>\n",
              "      <th>Data</th>\n",
              "      <th>Pedidos</th>\n",
              "      <th>Faturamento</th>\n",
              "    </tr>\n",
              "  </thead>\n",
              "  <tbody>\n",
              "    <tr>\n",
              "      <th>0</th>\n",
              "      <td>Alto Caparao</td>\n",
              "      <td>2019-01-01</td>\n",
              "      <td>3</td>\n",
              "      <td>1204.245000</td>\n",
              "    </tr>\n",
              "    <tr>\n",
              "      <th>1</th>\n",
              "      <td>Chapada dos Guimarães</td>\n",
              "      <td>2019-01-01</td>\n",
              "      <td>1</td>\n",
              "      <td>4041.160000</td>\n",
              "    </tr>\n",
              "    <tr>\n",
              "      <th>2</th>\n",
              "      <td>Jericoacoara</td>\n",
              "      <td>2019-01-01</td>\n",
              "      <td>4</td>\n",
              "      <td>21316.266667</td>\n",
              "    </tr>\n",
              "    <tr>\n",
              "      <th>3</th>\n",
              "      <td>Punta Del Este</td>\n",
              "      <td>2019-01-01</td>\n",
              "      <td>1</td>\n",
              "      <td>554.260000</td>\n",
              "    </tr>\n",
              "    <tr>\n",
              "      <th>4</th>\n",
              "      <td>Marilia</td>\n",
              "      <td>2019-01-01</td>\n",
              "      <td>1</td>\n",
              "      <td>670.300000</td>\n",
              "    </tr>\n",
              "  </tbody>\n",
              "</table>\n",
              "</div>"
            ],
            "text/plain": [
              "                  Cidade       Data  Pedidos   Faturamento\n",
              "0           Alto Caparao 2019-01-01        3   1204.245000\n",
              "1  Chapada dos Guimarães 2019-01-01        1   4041.160000\n",
              "2           Jericoacoara 2019-01-01        4  21316.266667\n",
              "3         Punta Del Este 2019-01-01        1    554.260000\n",
              "4                Marilia 2019-01-01        1    670.300000"
            ]
          },
          "metadata": {},
          "execution_count": 5
        }
      ]
    },
    {
      "cell_type": "code",
      "metadata": {
        "id": "h3D8jydJbJZI",
        "colab": {
          "base_uri": "https://localhost:8080/"
        },
        "outputId": "faa3c3ba-a373-4078-8517-4e8f4fe83325"
      },
      "source": [
        "df2.info()"
      ],
      "execution_count": 6,
      "outputs": [
        {
          "output_type": "stream",
          "name": "stdout",
          "text": [
            "<class 'pandas.core.frame.DataFrame'>\n",
            "RangeIndex: 95944 entries, 0 to 95943\n",
            "Data columns (total 4 columns):\n",
            " #   Column       Non-Null Count  Dtype         \n",
            "---  ------       --------------  -----         \n",
            " 0   Cidade       95944 non-null  object        \n",
            " 1   Data         95944 non-null  datetime64[ns]\n",
            " 2   Pedidos      95944 non-null  int64         \n",
            " 3   Faturamento  95944 non-null  float64       \n",
            "dtypes: datetime64[ns](1), float64(1), int64(1), object(1)\n",
            "memory usage: 2.9+ MB\n"
          ]
        }
      ]
    },
    {
      "cell_type": "code",
      "metadata": {
        "colab": {
          "base_uri": "https://localhost:8080/"
        },
        "id": "UE_JfXRt2nzi",
        "outputId": "f1f9b650-5f93-41d8-d444-593ef18894b7"
      },
      "source": [
        "df1.nunique()"
      ],
      "execution_count": 7,
      "outputs": [
        {
          "output_type": "execute_result",
          "data": {
            "text/plain": [
              "Data         365\n",
              "Destino    11966\n",
              "Buscas     18721\n",
              "Clicks      1576\n",
              "Custo      49428\n",
              "dtype: int64"
            ]
          },
          "metadata": {},
          "execution_count": 7
        }
      ]
    },
    {
      "cell_type": "code",
      "metadata": {
        "colab": {
          "base_uri": "https://localhost:8080/"
        },
        "id": "oPSNlNAo2yeF",
        "outputId": "ba7f3d29-57f6-4ca0-8964-d7346f18580b"
      },
      "source": [
        "df2.nunique()"
      ],
      "execution_count": 8,
      "outputs": [
        {
          "output_type": "execute_result",
          "data": {
            "text/plain": [
              "Cidade          2057\n",
              "Data             365\n",
              "Pedidos          126\n",
              "Faturamento    83090\n",
              "dtype: int64"
            ]
          },
          "metadata": {},
          "execution_count": 8
        }
      ]
    },
    {
      "cell_type": "markdown",
      "metadata": {
        "id": "D5lGLtc28oXV"
      },
      "source": [
        "## Processamento de Dados"
      ]
    },
    {
      "cell_type": "code",
      "metadata": {
        "id": "mO7nIV5HVMMr"
      },
      "source": [
        "df1 = df1.rename(columns={'Destino':'Cidade'}) #mudando o nome da coluna 'destino' para coincidir com a segunda base de dados"
      ],
      "execution_count": 9,
      "outputs": []
    },
    {
      "cell_type": "code",
      "metadata": {
        "colab": {
          "base_uri": "https://localhost:8080/",
          "height": 424
        },
        "id": "oqbSqbtecPDD",
        "outputId": "ed9a000f-224c-4254-d4f5-e405ceb0a7b8"
      },
      "source": [
        "df = df1.merge(right=df2, how='outer') # dataframe com as informações das 2 bases de dados 'df1' e 'df2'\n",
        "df.fillna(0)"
      ],
      "execution_count": 10,
      "outputs": [
        {
          "output_type": "execute_result",
          "data": {
            "text/html": [
              "<div>\n",
              "<style scoped>\n",
              "    .dataframe tbody tr th:only-of-type {\n",
              "        vertical-align: middle;\n",
              "    }\n",
              "\n",
              "    .dataframe tbody tr th {\n",
              "        vertical-align: top;\n",
              "    }\n",
              "\n",
              "    .dataframe thead th {\n",
              "        text-align: right;\n",
              "    }\n",
              "</style>\n",
              "<table border=\"1\" class=\"dataframe\">\n",
              "  <thead>\n",
              "    <tr style=\"text-align: right;\">\n",
              "      <th></th>\n",
              "      <th>Data</th>\n",
              "      <th>Cidade</th>\n",
              "      <th>Buscas</th>\n",
              "      <th>Clicks</th>\n",
              "      <th>Custo</th>\n",
              "      <th>Pedidos</th>\n",
              "      <th>Faturamento</th>\n",
              "    </tr>\n",
              "  </thead>\n",
              "  <tbody>\n",
              "    <tr>\n",
              "      <th>0</th>\n",
              "      <td>2019-01-01</td>\n",
              "      <td>Abadiania</td>\n",
              "      <td>13.0</td>\n",
              "      <td>0.0</td>\n",
              "      <td>0.000000</td>\n",
              "      <td>0.0</td>\n",
              "      <td>0.000</td>\n",
              "    </tr>\n",
              "    <tr>\n",
              "      <th>1</th>\n",
              "      <td>2019-01-01</td>\n",
              "      <td>Abaete</td>\n",
              "      <td>3.0</td>\n",
              "      <td>4.0</td>\n",
              "      <td>0.533333</td>\n",
              "      <td>0.0</td>\n",
              "      <td>0.000</td>\n",
              "    </tr>\n",
              "    <tr>\n",
              "      <th>2</th>\n",
              "      <td>2019-01-01</td>\n",
              "      <td>Abelardo Luz</td>\n",
              "      <td>22.0</td>\n",
              "      <td>1.0</td>\n",
              "      <td>0.130000</td>\n",
              "      <td>0.0</td>\n",
              "      <td>0.000</td>\n",
              "    </tr>\n",
              "    <tr>\n",
              "      <th>3</th>\n",
              "      <td>2019-01-01</td>\n",
              "      <td>Aberdeenshire</td>\n",
              "      <td>3.0</td>\n",
              "      <td>0.0</td>\n",
              "      <td>0.000000</td>\n",
              "      <td>0.0</td>\n",
              "      <td>0.000</td>\n",
              "    </tr>\n",
              "    <tr>\n",
              "      <th>4</th>\n",
              "      <td>2019-01-01</td>\n",
              "      <td>Abrantes</td>\n",
              "      <td>7.0</td>\n",
              "      <td>0.0</td>\n",
              "      <td>0.000000</td>\n",
              "      <td>0.0</td>\n",
              "      <td>0.000</td>\n",
              "    </tr>\n",
              "    <tr>\n",
              "      <th>...</th>\n",
              "      <td>...</td>\n",
              "      <td>...</td>\n",
              "      <td>...</td>\n",
              "      <td>...</td>\n",
              "      <td>...</td>\n",
              "      <td>...</td>\n",
              "      <td>...</td>\n",
              "    </tr>\n",
              "    <tr>\n",
              "      <th>916460</th>\n",
              "      <td>2019-12-30</td>\n",
              "      <td>Formosa</td>\n",
              "      <td>0.0</td>\n",
              "      <td>0.0</td>\n",
              "      <td>0.000000</td>\n",
              "      <td>3.0</td>\n",
              "      <td>4834.755</td>\n",
              "    </tr>\n",
              "    <tr>\n",
              "      <th>916461</th>\n",
              "      <td>2019-12-31</td>\n",
              "      <td>Mayor Drummond</td>\n",
              "      <td>0.0</td>\n",
              "      <td>0.0</td>\n",
              "      <td>0.000000</td>\n",
              "      <td>1.0</td>\n",
              "      <td>3009.270</td>\n",
              "    </tr>\n",
              "    <tr>\n",
              "      <th>916462</th>\n",
              "      <td>2019-12-31</td>\n",
              "      <td>Jaguaripe</td>\n",
              "      <td>0.0</td>\n",
              "      <td>0.0</td>\n",
              "      <td>0.000000</td>\n",
              "      <td>1.0</td>\n",
              "      <td>1317.680</td>\n",
              "    </tr>\n",
              "    <tr>\n",
              "      <th>916463</th>\n",
              "      <td>2019-12-31</td>\n",
              "      <td>Analandia</td>\n",
              "      <td>0.0</td>\n",
              "      <td>0.0</td>\n",
              "      <td>0.000000</td>\n",
              "      <td>1.0</td>\n",
              "      <td>249.000</td>\n",
              "    </tr>\n",
              "    <tr>\n",
              "      <th>916464</th>\n",
              "      <td>2019-12-31</td>\n",
              "      <td>Pacoti</td>\n",
              "      <td>0.0</td>\n",
              "      <td>0.0</td>\n",
              "      <td>0.000000</td>\n",
              "      <td>1.0</td>\n",
              "      <td>231.700</td>\n",
              "    </tr>\n",
              "  </tbody>\n",
              "</table>\n",
              "<p>916465 rows × 7 columns</p>\n",
              "</div>"
            ],
            "text/plain": [
              "             Data          Cidade  Buscas  ...     Custo  Pedidos  Faturamento\n",
              "0      2019-01-01       Abadiania    13.0  ...  0.000000      0.0        0.000\n",
              "1      2019-01-01          Abaete     3.0  ...  0.533333      0.0        0.000\n",
              "2      2019-01-01    Abelardo Luz    22.0  ...  0.130000      0.0        0.000\n",
              "3      2019-01-01   Aberdeenshire     3.0  ...  0.000000      0.0        0.000\n",
              "4      2019-01-01        Abrantes     7.0  ...  0.000000      0.0        0.000\n",
              "...           ...             ...     ...  ...       ...      ...          ...\n",
              "916460 2019-12-30         Formosa     0.0  ...  0.000000      3.0     4834.755\n",
              "916461 2019-12-31  Mayor Drummond     0.0  ...  0.000000      1.0     3009.270\n",
              "916462 2019-12-31       Jaguaripe     0.0  ...  0.000000      1.0     1317.680\n",
              "916463 2019-12-31       Analandia     0.0  ...  0.000000      1.0      249.000\n",
              "916464 2019-12-31          Pacoti     0.0  ...  0.000000      1.0      231.700\n",
              "\n",
              "[916465 rows x 7 columns]"
            ]
          },
          "metadata": {},
          "execution_count": 10
        }
      ]
    },
    {
      "cell_type": "code",
      "metadata": {
        "id": "aK3GT8GCBMHg"
      },
      "source": [
        "# convertendo euro para real com a cotação do dia 29/09/2021\n",
        "df['Custo'] = df['Custo'].apply(lambda x: x * 6,30)\n",
        "df['Custo'] = df['Custo'].notnull()"
      ],
      "execution_count": 39,
      "outputs": []
    },
    {
      "cell_type": "code",
      "metadata": {
        "id": "JhDMzol1EG5N",
        "outputId": "a0d3495b-5177-41e7-8683-e1c195b3b311",
        "colab": {
          "base_uri": "https://localhost:8080/"
        }
      },
      "source": [
        "df['Custo'].isnull().sum()"
      ],
      "execution_count": 40,
      "outputs": [
        {
          "output_type": "execute_result",
          "data": {
            "text/plain": [
              "0"
            ]
          },
          "metadata": {},
          "execution_count": 40
        }
      ]
    },
    {
      "cell_type": "code",
      "metadata": {
        "colab": {
          "base_uri": "https://localhost:8080/",
          "height": 424
        },
        "id": "0wEv5pfrcbny",
        "outputId": "ceaa918d-c7fc-4224-a837-c5d21ddec20b"
      },
      "source": [
        "df['Roi'] = (df['Faturamento'] - df['Custo']) / df['Custo'] #calculando o Roi de todas as compras relizadas\n",
        "df.fillna(0)"
      ],
      "execution_count": 11,
      "outputs": [
        {
          "output_type": "execute_result",
          "data": {
            "text/html": [
              "<div>\n",
              "<style scoped>\n",
              "    .dataframe tbody tr th:only-of-type {\n",
              "        vertical-align: middle;\n",
              "    }\n",
              "\n",
              "    .dataframe tbody tr th {\n",
              "        vertical-align: top;\n",
              "    }\n",
              "\n",
              "    .dataframe thead th {\n",
              "        text-align: right;\n",
              "    }\n",
              "</style>\n",
              "<table border=\"1\" class=\"dataframe\">\n",
              "  <thead>\n",
              "    <tr style=\"text-align: right;\">\n",
              "      <th></th>\n",
              "      <th>Data</th>\n",
              "      <th>Cidade</th>\n",
              "      <th>Buscas</th>\n",
              "      <th>Clicks</th>\n",
              "      <th>Custo</th>\n",
              "      <th>Pedidos</th>\n",
              "      <th>Faturamento</th>\n",
              "      <th>Roi</th>\n",
              "    </tr>\n",
              "  </thead>\n",
              "  <tbody>\n",
              "    <tr>\n",
              "      <th>0</th>\n",
              "      <td>2019-01-01</td>\n",
              "      <td>Abadiania</td>\n",
              "      <td>13.0</td>\n",
              "      <td>0.0</td>\n",
              "      <td>0.000000</td>\n",
              "      <td>0.0</td>\n",
              "      <td>0.000</td>\n",
              "      <td>0.0</td>\n",
              "    </tr>\n",
              "    <tr>\n",
              "      <th>1</th>\n",
              "      <td>2019-01-01</td>\n",
              "      <td>Abaete</td>\n",
              "      <td>3.0</td>\n",
              "      <td>4.0</td>\n",
              "      <td>0.533333</td>\n",
              "      <td>0.0</td>\n",
              "      <td>0.000</td>\n",
              "      <td>0.0</td>\n",
              "    </tr>\n",
              "    <tr>\n",
              "      <th>2</th>\n",
              "      <td>2019-01-01</td>\n",
              "      <td>Abelardo Luz</td>\n",
              "      <td>22.0</td>\n",
              "      <td>1.0</td>\n",
              "      <td>0.130000</td>\n",
              "      <td>0.0</td>\n",
              "      <td>0.000</td>\n",
              "      <td>0.0</td>\n",
              "    </tr>\n",
              "    <tr>\n",
              "      <th>3</th>\n",
              "      <td>2019-01-01</td>\n",
              "      <td>Aberdeenshire</td>\n",
              "      <td>3.0</td>\n",
              "      <td>0.0</td>\n",
              "      <td>0.000000</td>\n",
              "      <td>0.0</td>\n",
              "      <td>0.000</td>\n",
              "      <td>0.0</td>\n",
              "    </tr>\n",
              "    <tr>\n",
              "      <th>4</th>\n",
              "      <td>2019-01-01</td>\n",
              "      <td>Abrantes</td>\n",
              "      <td>7.0</td>\n",
              "      <td>0.0</td>\n",
              "      <td>0.000000</td>\n",
              "      <td>0.0</td>\n",
              "      <td>0.000</td>\n",
              "      <td>0.0</td>\n",
              "    </tr>\n",
              "    <tr>\n",
              "      <th>...</th>\n",
              "      <td>...</td>\n",
              "      <td>...</td>\n",
              "      <td>...</td>\n",
              "      <td>...</td>\n",
              "      <td>...</td>\n",
              "      <td>...</td>\n",
              "      <td>...</td>\n",
              "      <td>...</td>\n",
              "    </tr>\n",
              "    <tr>\n",
              "      <th>916460</th>\n",
              "      <td>2019-12-30</td>\n",
              "      <td>Formosa</td>\n",
              "      <td>0.0</td>\n",
              "      <td>0.0</td>\n",
              "      <td>0.000000</td>\n",
              "      <td>3.0</td>\n",
              "      <td>4834.755</td>\n",
              "      <td>0.0</td>\n",
              "    </tr>\n",
              "    <tr>\n",
              "      <th>916461</th>\n",
              "      <td>2019-12-31</td>\n",
              "      <td>Mayor Drummond</td>\n",
              "      <td>0.0</td>\n",
              "      <td>0.0</td>\n",
              "      <td>0.000000</td>\n",
              "      <td>1.0</td>\n",
              "      <td>3009.270</td>\n",
              "      <td>0.0</td>\n",
              "    </tr>\n",
              "    <tr>\n",
              "      <th>916462</th>\n",
              "      <td>2019-12-31</td>\n",
              "      <td>Jaguaripe</td>\n",
              "      <td>0.0</td>\n",
              "      <td>0.0</td>\n",
              "      <td>0.000000</td>\n",
              "      <td>1.0</td>\n",
              "      <td>1317.680</td>\n",
              "      <td>0.0</td>\n",
              "    </tr>\n",
              "    <tr>\n",
              "      <th>916463</th>\n",
              "      <td>2019-12-31</td>\n",
              "      <td>Analandia</td>\n",
              "      <td>0.0</td>\n",
              "      <td>0.0</td>\n",
              "      <td>0.000000</td>\n",
              "      <td>1.0</td>\n",
              "      <td>249.000</td>\n",
              "      <td>0.0</td>\n",
              "    </tr>\n",
              "    <tr>\n",
              "      <th>916464</th>\n",
              "      <td>2019-12-31</td>\n",
              "      <td>Pacoti</td>\n",
              "      <td>0.0</td>\n",
              "      <td>0.0</td>\n",
              "      <td>0.000000</td>\n",
              "      <td>1.0</td>\n",
              "      <td>231.700</td>\n",
              "      <td>0.0</td>\n",
              "    </tr>\n",
              "  </tbody>\n",
              "</table>\n",
              "<p>916465 rows × 8 columns</p>\n",
              "</div>"
            ],
            "text/plain": [
              "             Data          Cidade  Buscas  ...  Pedidos  Faturamento  Roi\n",
              "0      2019-01-01       Abadiania    13.0  ...      0.0        0.000  0.0\n",
              "1      2019-01-01          Abaete     3.0  ...      0.0        0.000  0.0\n",
              "2      2019-01-01    Abelardo Luz    22.0  ...      0.0        0.000  0.0\n",
              "3      2019-01-01   Aberdeenshire     3.0  ...      0.0        0.000  0.0\n",
              "4      2019-01-01        Abrantes     7.0  ...      0.0        0.000  0.0\n",
              "...           ...             ...     ...  ...      ...          ...  ...\n",
              "916460 2019-12-30         Formosa     0.0  ...      3.0     4834.755  0.0\n",
              "916461 2019-12-31  Mayor Drummond     0.0  ...      1.0     3009.270  0.0\n",
              "916462 2019-12-31       Jaguaripe     0.0  ...      1.0     1317.680  0.0\n",
              "916463 2019-12-31       Analandia     0.0  ...      1.0      249.000  0.0\n",
              "916464 2019-12-31          Pacoti     0.0  ...      1.0      231.700  0.0\n",
              "\n",
              "[916465 rows x 8 columns]"
            ]
          },
          "metadata": {},
          "execution_count": 11
        }
      ]
    },
    {
      "cell_type": "code",
      "metadata": {
        "id": "Y7ERGfsb3P7p"
      },
      "source": [
        "locator = Nominatim(user_agent=\"myGeocoder\")\n",
        "geocode = RateLimiter(locator.geocode, min_delay_seconds=1)"
      ],
      "execution_count": 18,
      "outputs": []
    },
    {
      "cell_type": "code",
      "metadata": {
        "id": "lAqi_A1k-Kpu"
      },
      "source": [
        "tqdm.pandas()\n",
        "df['location'] = df['Cidade'].progress_apply(geocode)"
      ],
      "execution_count": null,
      "outputs": []
    },
    {
      "cell_type": "code",
      "metadata": {
        "id": "r50rUYdY-Ptz"
      },
      "source": [
        "df['point'] = df['location'].apply(lambda loc: tuple(loc.point) if loc else None)\n",
        "df[['latitude', 'longitude', 'altitude']] = pd.DataFrame(df['point'].tolist(), index=df.index)"
      ],
      "execution_count": null,
      "outputs": []
    },
    {
      "cell_type": "code",
      "metadata": {
        "id": "ZhqAaIrOQNwZ"
      },
      "source": [
        "df.to_excel('base de dados.xlsx')"
      ],
      "execution_count": 44,
      "outputs": []
    },
    {
      "cell_type": "code",
      "metadata": {
        "id": "fTMWUE0iIXCg"
      },
      "source": [
        ""
      ],
      "execution_count": null,
      "outputs": []
    }
  ]
}